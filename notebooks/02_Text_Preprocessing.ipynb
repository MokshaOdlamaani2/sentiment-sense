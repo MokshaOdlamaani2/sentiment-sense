{
 "cells": [
  {
   "cell_type": "code",
   "execution_count": 20,
   "id": "b420df91",
   "metadata": {},
   "outputs": [],
   "source": [
    "import pandas as pd\n",
    "import re\n",
    "import emoji"
   ]
  },
  {
   "cell_type": "code",
   "execution_count": 21,
   "id": "42b8b22c",
   "metadata": {},
   "outputs": [],
   "source": [
    "def clean_text_simple(text):\n",
    "    text = text.lower()\n",
    "    text = re.sub(r\"http\\S+|www\\S+|https\\S+\", \"\", text)\n",
    "    text = re.sub(r\"@\\w+|#\\w+\", \"\", text)\n",
    "    text = emoji.replace_emoji(text, replace=\"\")\n",
    "    text = re.sub(r\"[^a-z\\s]\", \"\", text)\n",
    "    tokens = text.split()\n",
    "    basic_stopwords = {\"the\", \"is\", \"and\", \"a\", \"to\", \"on\", \"in\", \"it\", \"i\", \"of\", \"for\", \"at\", \"this\", \"my\", \"so\", \"just\"}\n",
    "    tokens = [word for word in tokens if word not in basic_stopwords and len(word) > 2]\n",
    "    return \" \".join(tokens)\n"
   ]
  },
  {
   "cell_type": "code",
   "execution_count": 22,
   "id": "da0563e6",
   "metadata": {},
   "outputs": [],
   "source": [
    "# 📥 Load dataset\n",
    "df = pd.read_csv(\"../data/sentiment140_sampled.csv\")\n",
    "\n",
    "# 🧹 Clean tweets\n",
    "df['processed_text'] = df['text'].apply(clean_text_simple)\n"
   ]
  },
  {
   "cell_type": "code",
   "execution_count": null,
   "id": "556ff8ae",
   "metadata": {},
   "outputs": [],
   "source": []
  },
  {
   "cell_type": "code",
   "execution_count": 23,
   "id": "09e34839",
   "metadata": {},
   "outputs": [
    {
     "name": "stdout",
     "output_type": "stream",
     "text": [
      "✅ Processed data saved as sentiment140_processed.csv\n"
     ]
    },
    {
     "data": {
      "text/html": [
       "<div>\n",
       "<style scoped>\n",
       "    .dataframe tbody tr th:only-of-type {\n",
       "        vertical-align: middle;\n",
       "    }\n",
       "\n",
       "    .dataframe tbody tr th {\n",
       "        vertical-align: top;\n",
       "    }\n",
       "\n",
       "    .dataframe thead th {\n",
       "        text-align: right;\n",
       "    }\n",
       "</style>\n",
       "<table border=\"1\" class=\"dataframe\">\n",
       "  <thead>\n",
       "    <tr style=\"text-align: right;\">\n",
       "      <th></th>\n",
       "      <th>text</th>\n",
       "      <th>processed_text</th>\n",
       "    </tr>\n",
       "  </thead>\n",
       "  <tbody>\n",
       "    <tr>\n",
       "      <th>16201</th>\n",
       "      <td>June 8 will be my first day to write in twitte...</td>\n",
       "      <td>june will first day write twitter while studyi...</td>\n",
       "    </tr>\n",
       "    <tr>\n",
       "      <th>11330</th>\n",
       "      <td>@howlieT  What are you on?</td>\n",
       "      <td>what are you</td>\n",
       "    </tr>\n",
       "    <tr>\n",
       "      <th>11666</th>\n",
       "      <td>@Digitalberto No  Ella esta en Ponce.... Jacar...</td>\n",
       "      <td>ella esta ponce jacaranda love say that sounds...</td>\n",
       "    </tr>\n",
       "    <tr>\n",
       "      <th>10297</th>\n",
       "      <td>Hola Amigas!  @Ms_Izzy @Vianessa  I'll be in L...</td>\n",
       "      <td>hola amigas ill bet awards june sunday</td>\n",
       "    </tr>\n",
       "    <tr>\n",
       "      <th>4061</th>\n",
       "      <td>Why dont Girls Aloud have twitter</td>\n",
       "      <td>why dont girls aloud have twitter</td>\n",
       "    </tr>\n",
       "  </tbody>\n",
       "</table>\n",
       "</div>"
      ],
      "text/plain": [
       "                                                    text  \\\n",
       "16201  June 8 will be my first day to write in twitte...   \n",
       "11330                         @howlieT  What are you on?   \n",
       "11666  @Digitalberto No  Ella esta en Ponce.... Jacar...   \n",
       "10297  Hola Amigas!  @Ms_Izzy @Vianessa  I'll be in L...   \n",
       "4061                  Why dont Girls Aloud have twitter    \n",
       "\n",
       "                                          processed_text  \n",
       "16201  june will first day write twitter while studyi...  \n",
       "11330                                       what are you  \n",
       "11666  ella esta ponce jacaranda love say that sounds...  \n",
       "10297             hola amigas ill bet awards june sunday  \n",
       "4061                   why dont girls aloud have twitter  "
      ]
     },
     "execution_count": 23,
     "metadata": {},
     "output_type": "execute_result"
    }
   ],
   "source": [
    "df.to_csv(\"../data/sentiment140_processed.csv\", index=False)\n",
    "print(\"✅ Processed data saved as sentiment140_processed.csv\")\n",
    "\n",
    "# 🧪 Optional: Preview\n",
    "df[['text', 'processed_text']].sample(5)\n"
   ]
  }
 ],
 "metadata": {
  "kernelspec": {
   "display_name": "base",
   "language": "python",
   "name": "python3"
  },
  "language_info": {
   "codemirror_mode": {
    "name": "ipython",
    "version": 3
   },
   "file_extension": ".py",
   "mimetype": "text/x-python",
   "name": "python",
   "nbconvert_exporter": "python",
   "pygments_lexer": "ipython3",
   "version": "3.11.7"
  }
 },
 "nbformat": 4,
 "nbformat_minor": 5
}
